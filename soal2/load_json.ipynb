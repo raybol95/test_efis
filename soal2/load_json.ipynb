{
 "cells": [
  {
   "cell_type": "code",
   "execution_count": 1,
   "metadata": {},
   "outputs": [],
   "source": [
    "import json\n",
    "import pandas as pd\n",
    "import re\n",
    "pd.set_option('display.max_rows', None, 'display.max_columns', None, 'display.max_colwidth', None)"
   ]
  },
  {
   "cell_type": "code",
   "execution_count": 2,
   "metadata": {},
   "outputs": [],
   "source": [
    "with open(\"soal-2.json\", \"r\") as json_file:\n",
    "    data = json.loads(json_file.read())"
   ]
  },
  {
   "cell_type": "code",
   "execution_count": 3,
   "metadata": {},
   "outputs": [
    {
     "data": {
      "text/plain": [
       "1054"
      ]
     },
     "execution_count": 3,
     "metadata": {},
     "output_type": "execute_result"
    }
   ],
   "source": [
    "len(data)"
   ]
  },
  {
   "cell_type": "code",
   "execution_count": 4,
   "metadata": {},
   "outputs": [
    {
     "data": {
      "text/html": [
       "<div>\n",
       "<style scoped>\n",
       "    .dataframe tbody tr th:only-of-type {\n",
       "        vertical-align: middle;\n",
       "    }\n",
       "\n",
       "    .dataframe tbody tr th {\n",
       "        vertical-align: top;\n",
       "    }\n",
       "\n",
       "    .dataframe thead th {\n",
       "        text-align: right;\n",
       "    }\n",
       "</style>\n",
       "<table border=\"1\" class=\"dataframe\">\n",
       "  <thead>\n",
       "    <tr style=\"text-align: right;\">\n",
       "      <th></th>\n",
       "      <th>komoditas</th>\n",
       "      <th>berat</th>\n",
       "    </tr>\n",
       "  </thead>\n",
       "  <tbody>\n",
       "    <tr>\n",
       "      <th>0</th>\n",
       "      <td>lele, bawal, nila</td>\n",
       "      <td>lele 6kg, bawal 1kg, nila 1kg</td>\n",
       "    </tr>\n",
       "    <tr>\n",
       "      <th>1</th>\n",
       "      <td>kakap lele kembung tongkol salem</td>\n",
       "      <td>kakap 2kg lele 1kg kembung 1kg tongkol 1kg salem 1kg</td>\n",
       "    </tr>\n",
       "    <tr>\n",
       "      <th>2</th>\n",
       "      <td>ikan nila, kakap, lele, bawal, kembung, salam</td>\n",
       "      <td>rata2 1kg kecuali kembung 2kg</td>\n",
       "    </tr>\n",
       "    <tr>\n",
       "      <th>3</th>\n",
       "      <td>nila kembung tongkol lele bawal</td>\n",
       "      <td>nila 1kg bawal 2kg kembung 5kg lele 2kg tongkol 3kg</td>\n",
       "    </tr>\n",
       "    <tr>\n",
       "      <th>4</th>\n",
       "      <td>lele, kerapu, ikan mas, pindang tongkol, gurame</td>\n",
       "      <td>rata2 1kg</td>\n",
       "    </tr>\n",
       "  </tbody>\n",
       "</table>\n",
       "</div>"
      ],
      "text/plain": [
       "                                         komoditas  \\\n",
       "0                                lele, bawal, nila   \n",
       "1                 kakap lele kembung tongkol salem   \n",
       "2    ikan nila, kakap, lele, bawal, kembung, salam   \n",
       "3                  nila kembung tongkol lele bawal   \n",
       "4  lele, kerapu, ikan mas, pindang tongkol, gurame   \n",
       "\n",
       "                                                  berat  \n",
       "0                         lele 6kg, bawal 1kg, nila 1kg  \n",
       "1  kakap 2kg lele 1kg kembung 1kg tongkol 1kg salem 1kg  \n",
       "2                         rata2 1kg kecuali kembung 2kg  \n",
       "3   nila 1kg bawal 2kg kembung 5kg lele 2kg tongkol 3kg  \n",
       "4                                             rata2 1kg  "
      ]
     },
     "execution_count": 4,
     "metadata": {},
     "output_type": "execute_result"
    }
   ],
   "source": [
    "df = pd.read_json('soal-2.json')\n",
    "df.head()"
   ]
  },
  {
   "cell_type": "code",
   "execution_count": 5,
   "metadata": {},
   "outputs": [
    {
     "data": {
      "text/html": [
       "<div>\n",
       "<style scoped>\n",
       "    .dataframe tbody tr th:only-of-type {\n",
       "        vertical-align: middle;\n",
       "    }\n",
       "\n",
       "    .dataframe tbody tr th {\n",
       "        vertical-align: top;\n",
       "    }\n",
       "\n",
       "    .dataframe thead th {\n",
       "        text-align: right;\n",
       "    }\n",
       "</style>\n",
       "<table border=\"1\" class=\"dataframe\">\n",
       "  <thead>\n",
       "    <tr style=\"text-align: right;\">\n",
       "      <th></th>\n",
       "      <th>komoditas</th>\n",
       "      <th>berat</th>\n",
       "    </tr>\n",
       "  </thead>\n",
       "  <tbody>\n",
       "    <tr>\n",
       "      <th>0</th>\n",
       "      <td>[lele, bawal, nila]</td>\n",
       "      <td>[6, 1, 1]</td>\n",
       "    </tr>\n",
       "    <tr>\n",
       "      <th>1</th>\n",
       "      <td>[kakap, lele, kembung, tongkol, salem]</td>\n",
       "      <td>[2, 1, 1, 1, 1]</td>\n",
       "    </tr>\n",
       "    <tr>\n",
       "      <th>2</th>\n",
       "      <td>[nila, kakap, lele, bawal, kembung, salam]</td>\n",
       "      <td>[1, 2]</td>\n",
       "    </tr>\n",
       "    <tr>\n",
       "      <th>3</th>\n",
       "      <td>[nila, kembung, tongkol, lele, bawal]</td>\n",
       "      <td>[1, 2, 5, 2, 3]</td>\n",
       "    </tr>\n",
       "    <tr>\n",
       "      <th>4</th>\n",
       "      <td>[lele, kerapu, mas, pindang, tongkol, gurame]</td>\n",
       "      <td>[1]</td>\n",
       "    </tr>\n",
       "  </tbody>\n",
       "</table>\n",
       "</div>"
      ],
      "text/plain": [
       "                                       komoditas            berat\n",
       "0                            [lele, bawal, nila]        [6, 1, 1]\n",
       "1         [kakap, lele, kembung, tongkol, salem]  [2, 1, 1, 1, 1]\n",
       "2     [nila, kakap, lele, bawal, kembung, salam]           [1, 2]\n",
       "3          [nila, kembung, tongkol, lele, bawal]  [1, 2, 5, 2, 3]\n",
       "4  [lele, kerapu, mas, pindang, tongkol, gurame]              [1]"
      ]
     },
     "execution_count": 5,
     "metadata": {},
     "output_type": "execute_result"
    }
   ],
   "source": [
    "for y in range(len(df['komoditas'])):\n",
    "    df['komoditas'][y] = re.sub(r'(ikan\\s|Ikan\\s)|(\\bdan)|(\\bdll)|(\\s*$)',\"\",df['komoditas'][y])\n",
    "    df['komoditas'][y] = re.sub('(,)|(&)',\" \",df['komoditas'][y])\n",
    "    df['komoditas'][y] = re.sub('(\\s+)',\",\",df['komoditas'][y])\n",
    "    df['komoditas'][y] = re.sub(r'(,\\s*$)',\"\",df['komoditas'][y])\n",
    "    df['komoditas'][y] = re.split(\",\",df['komoditas'][y])\n",
    "    df['berat'][y] = re.sub('rata2',\"\",df['berat'][y])\n",
    "    df['berat'][y] = list(re.findall(r'\\d+',df['berat'][y]))\n",
    "df.head()"
   ]
  },
  {
   "cell_type": "code",
   "execution_count": 6,
   "metadata": {},
   "outputs": [],
   "source": [
    "# asumsi jika panjang list ikan tidak sama dengan panjang list berat\n",
    "# maka diambil value index pertama list berat untuk value ikan yang lainnya\n",
    "# jadi jika di data awal mengatakan itu rata-rata dan hanya mencantumkan satu buah angka\n",
    "# tetap akan terpenuhi dengan eror yang kecil, karena jika disamakan dengan value awal berat misal kan 5\n",
    "# dan terdapat panjang list ikan sebanyak 5, dan list berat yg awalnya 5 menjadi [5,5,5,5,5]\n",
    "# dan jika angka list tersebut di rata - ratakan, maka akan tetap menghasilkan satu angka 5\n",
    "for k in range(len(df)):\n",
    "    while len(df[\"berat\"][k]) != len(df['komoditas'][k]):\n",
    "        if len(df[\"berat\"][k]) >= len(df['komoditas'][k]):\n",
    "            df[\"berat\"][k] = [int(int(df[\"berat\"][k][0]) + int(df[\"berat\"][k][1])/2)]\n",
    "        elif df[\"berat\"][k] == []:\n",
    "            df[\"berat\"][k].append(0)\n",
    "        elif len(df[\"berat\"][k]) <= len(df['komoditas'][k]):\n",
    "            df[\"berat\"][k].append(df[\"berat\"][k][0])"
   ]
  },
  {
   "cell_type": "code",
   "execution_count": 7,
   "metadata": {},
   "outputs": [],
   "source": [
    "data = {\"ikan\" : [], \"berat\" : []}\n",
    "for z in range(len(df)):\n",
    "    for y in range(len(df['komoditas'][z])):\n",
    "        data['ikan'].append(df['komoditas'][z][y])\n",
    "        data['berat'].append(df['berat'][z][y])"
   ]
  },
  {
   "cell_type": "code",
   "execution_count": 14,
   "metadata": {},
   "outputs": [
    {
     "data": {
      "text/html": [
       "<div>\n",
       "<style scoped>\n",
       "    .dataframe tbody tr th:only-of-type {\n",
       "        vertical-align: middle;\n",
       "    }\n",
       "\n",
       "    .dataframe tbody tr th {\n",
       "        vertical-align: top;\n",
       "    }\n",
       "\n",
       "    .dataframe thead th {\n",
       "        text-align: right;\n",
       "    }\n",
       "</style>\n",
       "<table border=\"1\" class=\"dataframe\">\n",
       "  <thead>\n",
       "    <tr style=\"text-align: right;\">\n",
       "      <th></th>\n",
       "      <th>ikan</th>\n",
       "      <th>berat</th>\n",
       "    </tr>\n",
       "  </thead>\n",
       "  <tbody>\n",
       "    <tr>\n",
       "      <th>0</th>\n",
       "      <td>lele</td>\n",
       "      <td>6</td>\n",
       "    </tr>\n",
       "    <tr>\n",
       "      <th>1</th>\n",
       "      <td>bawal</td>\n",
       "      <td>1</td>\n",
       "    </tr>\n",
       "    <tr>\n",
       "      <th>2</th>\n",
       "      <td>nila</td>\n",
       "      <td>1</td>\n",
       "    </tr>\n",
       "    <tr>\n",
       "      <th>3</th>\n",
       "      <td>kakap</td>\n",
       "      <td>2</td>\n",
       "    </tr>\n",
       "    <tr>\n",
       "      <th>4</th>\n",
       "      <td>lele</td>\n",
       "      <td>1</td>\n",
       "    </tr>\n",
       "  </tbody>\n",
       "</table>\n",
       "</div>"
      ],
      "text/plain": [
       "    ikan  berat\n",
       "0   lele      6\n",
       "1  bawal      1\n",
       "2   nila      1\n",
       "3  kakap      2\n",
       "4   lele      1"
      ]
     },
     "execution_count": 14,
     "metadata": {},
     "output_type": "execute_result"
    }
   ],
   "source": [
    "df_temp = pd.DataFrame(data)\n",
    "df_temp['berat'] = df_temp['berat'].astype('int32')\n",
    "df_temp.head()"
   ]
  },
  {
   "cell_type": "code",
   "execution_count": 66,
   "metadata": {},
   "outputs": [
    {
     "data": {
      "text/html": [
       "<div>\n",
       "<style scoped>\n",
       "    .dataframe tbody tr th:only-of-type {\n",
       "        vertical-align: middle;\n",
       "    }\n",
       "\n",
       "    .dataframe tbody tr th {\n",
       "        vertical-align: top;\n",
       "    }\n",
       "\n",
       "    .dataframe thead th {\n",
       "        text-align: right;\n",
       "    }\n",
       "</style>\n",
       "<table border=\"1\" class=\"dataframe\">\n",
       "  <thead>\n",
       "    <tr style=\"text-align: right;\">\n",
       "      <th></th>\n",
       "      <th>ikan</th>\n",
       "      <th>berat</th>\n",
       "    </tr>\n",
       "  </thead>\n",
       "  <tbody>\n",
       "    <tr>\n",
       "      <th>0</th>\n",
       "      <td>lele</td>\n",
       "      <td>2575</td>\n",
       "    </tr>\n",
       "    <tr>\n",
       "      <th>1</th>\n",
       "      <td>mas</td>\n",
       "      <td>1579</td>\n",
       "    </tr>\n",
       "    <tr>\n",
       "      <th>2</th>\n",
       "      <td>nila</td>\n",
       "      <td>1085</td>\n",
       "    </tr>\n",
       "    <tr>\n",
       "      <th>3</th>\n",
       "      <td>tongkol</td>\n",
       "      <td>962</td>\n",
       "    </tr>\n",
       "    <tr>\n",
       "      <th>4</th>\n",
       "      <td>bawal</td>\n",
       "      <td>423</td>\n",
       "    </tr>\n",
       "  </tbody>\n",
       "</table>\n",
       "</div>"
      ],
      "text/plain": [
       "      ikan  berat\n",
       "0     lele   2575\n",
       "1      mas   1579\n",
       "2     nila   1085\n",
       "3  tongkol    962\n",
       "4    bawal    423"
      ]
     },
     "execution_count": 66,
     "metadata": {},
     "output_type": "execute_result"
    }
   ],
   "source": [
    "df_new = df_temp.groupby(['ikan']).sum()\n",
    "df_new.reset_index(inplace=True)\n",
    "df_new.sort_values(by=['berat'],ascending=False,ignore_index=True,inplace=True)\n",
    "df_new.head()"
   ]
  },
  {
   "cell_type": "code",
   "execution_count": 67,
   "metadata": {},
   "outputs": [],
   "source": [
    "def Convert(a):\n",
    "    it = iter(a)\n",
    "    res_dct = dict(zip(it, it))\n",
    "    return res_dct"
   ]
  },
  {
   "cell_type": "code",
   "execution_count": 74,
   "metadata": {},
   "outputs": [],
   "source": [
    "list_dict = []\n",
    "for j in range(len(df_new)):\n",
    "    result = df_new.loc[j].to_dict()\n",
    "    list_dict.append(Convert(result.values()))"
   ]
  },
  {
   "cell_type": "code",
   "execution_count": 82,
   "metadata": {},
   "outputs": [
    {
     "data": {
      "text/plain": [
       "[{'lele': 2575},\n",
       " {'mas': 1579},\n",
       " {'nila': 1085},\n",
       " {'tongkol': 962},\n",
       " {'bawal': 423},\n",
       " {'kakap': 389},\n",
       " {'kembung': 351},\n",
       " {'gurame': 351},\n",
       " {'mujaer': 291},\n",
       " {'mujair': 193},\n",
       " {'laut': 141},\n",
       " {'kerapu': 95},\n",
       " {'patin': 91},\n",
       " {'salem': 53},\n",
       " {'bandeng': 42},\n",
       " {'merah': 36},\n",
       " {'udang': 29},\n",
       " {'ayam': 16},\n",
       " {'cumi': 13},\n",
       " {'kepiting': 13},\n",
       " {'cumi-cumi': 9},\n",
       " {'goreng': 9},\n",
       " {'babat': 9},\n",
       " {'tawar': 8},\n",
       " {'pecel': 8},\n",
       " {'kerang': 8},\n",
       " {'munkar': 7},\n",
       " {'soto': 7},\n",
       " {'etong': 7},\n",
       " {'kikil': 7},\n",
       " {'gurami': 7},\n",
       " {'': 6},\n",
       " {'uduk': 6},\n",
       " {'muajir': 6},\n",
       " {'krapu': 6},\n",
       " {'parin': 5},\n",
       " {'mujir': 5},\n",
       " {'kele': 5},\n",
       " {'bebek': 5},\n",
       " {'man': 5},\n",
       " {'goreng/bakar': 5},\n",
       " {'hitam': 5},\n",
       " {'kerpu': 5},\n",
       " {'ikanlele': 5},\n",
       " {'nasi': 5},\n",
       " {'cakalang': 4},\n",
       " {'jaer': 4},\n",
       " {'pari': 3},\n",
       " {'nilem': 3},\n",
       " {'nil': 3},\n",
       " {'barunang': 3},\n",
       " {'baracuda': 3},\n",
       " {'sea': 3},\n",
       " {'food': 3},\n",
       " {'majaer': 3},\n",
       " {'tenggiri': 3},\n",
       " {'tngkol': 3},\n",
       " {'gembung': 2},\n",
       " {'sotobayam': 2},\n",
       " {'tingkol': 2},\n",
       " {'impun': 2},\n",
       " {'kepala': 2},\n",
       " {'pindang': 2},\n",
       " {'jambal': 2},\n",
       " {'sate': 1},\n",
       " {'usus': 1},\n",
       " {'salam': 1},\n",
       " {'peda': 1},\n",
       " {'nila/jaer': 1},\n",
       " {'mujaer/nila': 1},\n",
       " {'lelw': 1},\n",
       " {'lele.': 1},\n",
       " {'kembug': 1},\n",
       " {'ikn': 1},\n",
       " {'gabus': 1},\n",
       " {'emas': 1},\n",
       " {'laut.': 0}]"
      ]
     },
     "execution_count": 82,
     "metadata": {},
     "output_type": "execute_result"
    }
   ],
   "source": [
    "list_dict"
   ]
  },
  {
   "cell_type": "code",
   "execution_count": null,
   "metadata": {},
   "outputs": [],
   "source": []
  }
 ],
 "metadata": {
  "kernelspec": {
   "display_name": "Python 3.9.12 ('base')",
   "language": "python",
   "name": "python3"
  },
  "language_info": {
   "codemirror_mode": {
    "name": "ipython",
    "version": 3
   },
   "file_extension": ".py",
   "mimetype": "text/x-python",
   "name": "python",
   "nbconvert_exporter": "python",
   "pygments_lexer": "ipython3",
   "version": "3.9.12"
  },
  "orig_nbformat": 4,
  "vscode": {
   "interpreter": {
    "hash": "ad2bdc8ecc057115af97d19610ffacc2b4e99fae6737bb82f5d7fb13d2f2c186"
   }
  }
 },
 "nbformat": 4,
 "nbformat_minor": 2
}
